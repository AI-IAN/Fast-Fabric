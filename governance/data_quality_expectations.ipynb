{
  "cells": [
    {
      "cell_type": "markdown",
      "metadata": {},
      "source": [
        "# Fabric Fast-Track Data Quality Validation\n",
        "\n",
        "This notebook implements Great Expectations data quality checks for the Fast-Track accelerator."
      ]
    },
    {
      "cell_type": "code",
      "execution_count": null,
      "metadata": {},
      "outputs": [],
      "source": [
        "# Install and import required libraries\n",
        "import great_expectations as gx\n",
        "import pandas as pd\n",
        "import os\n",
        "from datetime import datetime"
      ]
    },
    {
      "cell_type": "code",
      "execution_count": null,
      "metadata": {},
      "outputs": [],
      "source": [
        "# Initialize Great Expectations context\n",
        "context = gx.get_context()\n",
        "\n",
        "# Configure for Fabric Lakehouse\n",
        "WORKSPACE_NAME = os.getenv('WORKSPACE_NAME', 'FastTrack-Test-Workspace')\n",
        "LAKEHOUSE_NAME = 'FastTrack_Lakehouse'"
      ]
    },
    {
      "cell_type": "code",
      "execution_count": null,
      "metadata": {},
      "outputs": [],
      "source": [
        "def validate_bronze_layer():\n",
        "    # Validate bronze layer data quality\n",
        "    customers_df = spark.read.table(f'{LAKEHOUSE_NAME}.bronze_customers')\n",
        "    \n",
        "    # Create expectations suite\n",
        "    suite = context.create_expectation_suite('bronze_layer_suite', overwrite_existing=True)\n",
        "    \n",
        "    # Add basic validations\n",
        "    validator = context.get_validator(\n",
        "        batch_request={'batch_data': customers_df},\n",
        "        expectation_suite_name='bronze_layer_suite'\n",
        "    )\n",
        "    \n",
        "    validator.expect_table_row_count_to_be_between(min_value=1000)\n",
        "    validator.expect_column_to_exist('customer_id')\n",
        "    validator.expect_column_values_to_not_be_null('customer_id')\n",
        "    \n",
        "    return validator.validate()"
      ]
    },
    {
      "cell_type": "code",
      "execution_count": null,
      "metadata": {},
      "outputs": [],
      "source": [
        "# Run validation\n",
        "print(f'Starting data quality validation at {datetime.now()}')\n",
        "\n",
        "try:\n",
        "    result = validate_bronze_layer()\n",
        "    \n",
        "    if result.success:\n",
        "        print('\u2705 All data quality checks passed')\n",
        "    else:\n",
        "        print('\u274c Data quality validation failed')\n",
        "        \n",
        "except Exception as e:\n",
        "    print(f'Error during validation: {str(e)}')"
      ]
    }
  ],
  "metadata": {
    "kernelspec": {
      "display_name": "Python 3",
      "language": "python",
      "name": "python3"
    },
    "language_info": {
      "name": "python",
      "version": "3.9.0"
    }
  },
  "nbformat": 4,
  "nbformat_minor": 4
}